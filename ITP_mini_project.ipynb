{
 "cells": [
  {
   "cell_type": "markdown",
   "metadata": {},
   "source": [
    "# <center>PGP Data Science Engineering</center>\n",
    "## <center>Introduction to Programming – Mini Project:</center>\n"
   ]
  },
  {
   "cell_type": "markdown",
   "metadata": {},
   "source": [
    "### Problem 1:\n",
    "\n",
    "1. Write a program to calculate area of shapes. Your program should be capable of calculating the area of a square, rectangle, triangle and a circle. The user should be presented with options to select the shape. Based on which shape is chosed by the user, the program should ask for the appropriate input and print the resulting area on the screen.\n",
    "\n",
    "When the program is run, the screen should display something like this:\n",
    "\n",
    "**Which shape would you like to calculate the area for? Please enter the option number-**<br>\n",
    "**1. Square**<br>\n",
    "**2. Rectangle**<br>\n",
    "**3. Triangle**<br>\n",
    "**4. Circle**<br>\n",
    "**Enter Option: _**\n",
    "\n",
    "Say the user enters the option 1.\n",
    "\n",
    "**Please enter the length of a side: _**\n",
    "\n",
    "If the user enters a value of 5. The output should be:\n",
    "\n",
    "**The area of the square is 25**\n",
    "\n",
    "This program should indicate that the input is invalid if the user enters a character instead of a number as input. For instance if the user enters a value of ‘a’ instead of 5 in the previous example the program should prompt:\n",
    "\n",
    "**Invalid input, please enter a number: _**\n"
   ]
  },
  {
   "cell_type": "code",
   "execution_count": 2,
   "metadata": {},
   "outputs": [
    {
     "name": "stdout",
     "output_type": "stream",
     "text": [
      "Which shape would you like to calculate the area for? Please enter the option number-\n",
      " 1:Square\n",
      " 2.Rectangle\n",
      " 3.Triangle\n",
      " 4.Circle\n",
      " Enter Option: _ 3\n",
      "Enter the value of base: 2\n",
      "Enter the value of height: 3\n",
      "The area of triangle : 3.0\n"
     ]
    }
   ],
   "source": [
    "def areacalculator():\n",
    "    area = 0\n",
    "    pie = 3.14\n",
    "    Choice =int(input(\"Which shape would you like to calculate the area for? Please enter the option number-\\n 1:Square\\n 2.Rectangle\\n 3.Triangle\\n 4.Circle\\n Enter Option: _ \"))\n",
    "    if Choice==1:\n",
    "        side=(input(\"Enter the value of side: \"))\n",
    "        if side.isdigit():\n",
    "            print(\"The area of sqaure :\",int(side)**2)\n",
    "        else:\n",
    "            print(\"Invalid input, please enter a number: _\")\n",
    "            side=input()\n",
    "            print(\"The area of sqaure :\",int(side)**2)\n",
    "    elif Choice == 2:\n",
    "        length = int(input(\"Enter the value of length: \"))\n",
    "        width = int(input(\"Enter the value of width: \"))\n",
    "        area = area + (length * width)\n",
    "        print(\"The area of rectangle :\",area)\n",
    "    elif Choice == 3:\n",
    "        base = int(input(\"Enter the value of base: \"))\n",
    "        height = int(input(\"Enter the value of height: \"))\n",
    "        area = area +(0.5 * base * height)\n",
    "        print(\"The area of triangle :\",area)\n",
    "    elif Choice== 4:\n",
    "        radius = int(input(\"Enter the value of radius: \"))\n",
    "        area = area + (2 * pie * radius)\n",
    "        print(\"The area of circle :\",area)\n",
    "    else:\n",
    "        print (\"Select a valid shape\")\n",
    "areacalculator()"
   ]
  },
  {
   "cell_type": "markdown",
   "metadata": {},
   "source": [
    "### Problem 2:\n",
    "\n",
    "Create and encrypter in python based on the ceaser cipher. It is a substitution cipher where each character of the original text is shifted a certain number characters in the alphabet. Write a function that would require 2 arguments – the input text to be encrypted and a key. For eg: Given the input text ‘hello’ and the key 3, the resulting encryted text would be ‘khoor’. Here you can see that every character in the string hello is shifted by 3 characters. ‘h’ has shifted to ‘k’, ‘e’ has shifted to ‘h’ and so on. If a key of 5 were used, the resulting string would be ‘mjqqt’. This function should be capable of ignoring any characters which are not alphabets. Th2 character ‘z’ entered b\n",
    "y the user for a key of 3 would result in ‘c’.\n",
    "\n",
    "Usage:<br>\n",
    "**encrypt(‘hello world!’, 3)**<br>\n",
    "**‘khoor zruog!’**\n",
    "\n",
    "Similarly create decrypter which can decode the encryted text when provided the input text and key\n",
    "\n",
    "Usage:<br>\n",
    "**decrypt(‘khoor zruog!’, 3)**<br>\n",
    "**‘hello world!’**\n",
    "\n",
    "For the sake of simplicity you can assume that input solely consists of lowercase alphabets, spaces and punctuation symbols. Numbers in the input text would also be ignored similar to symbols."
   ]
  },
  {
   "cell_type": "code",
   "execution_count": 1,
   "metadata": {},
   "outputs": [
    {
     "name": "stdout",
     "output_type": "stream",
     "text": [
      "Enter your choice :\n",
      " 1.Encrypt\n",
      " 2.Decrypt\n",
      "1\n",
      "Enter any string :hello world\n",
      "Enter the range of key :3\n",
      "Original String : hello world\n",
      "Encrypted String :  khoor zruog\n"
     ]
    }
   ],
   "source": [
    "def encrypt(string,shift):\n",
    "    c=' '\n",
    "    for char in string:\n",
    "        if char==' ':\n",
    "            c=c+char\n",
    "        elif char.isupper():\n",
    "             c=c+chr((ord(char)+shift-65)%26+65)\n",
    "        else:\n",
    "             c=c+chr((ord(char)+shift-97)%26+97)\n",
    "    return c\n",
    "\n",
    "def decrypt(string,shift):\n",
    "    c=' '\n",
    "    for char in string:\n",
    "        if char==' ':\n",
    "            c=c+char\n",
    "        elif char.isupper():\n",
    "             c=c+chr((ord(char)-shift-65)%26+65)\n",
    "        else:\n",
    "             c=c+chr((ord(char)-shift-97)%26+97)\n",
    "    return c\n",
    "Choice =int(input(\"Enter your choice :\\n 1.Encrypt\\n 2.Decrypt\\n\"))\n",
    "if Choice==1:\n",
    "    text=input(\"Enter any string :\")\n",
    "    s=int(input(\"Enter the range of key :\"))\n",
    "    print(\"Original String :\",text)\n",
    "    print(\"Encrypted String :\",encrypt(text,s))\n",
    "    \n",
    "elif Choice==2:\n",
    "    text=input(\"Enter any string :\")\n",
    "    s=int(input(\"Enter the range of key :\"))\n",
    "    print(\"Original String :\",text)\n",
    "    print(\"decrypted String :\",decrypt(text,s))\n",
    "else:\n",
    "    print(\"Invalid Entry\")"
   ]
  },
  {
   "cell_type": "code",
   "execution_count": null,
   "metadata": {},
   "outputs": [],
   "source": []
  }
 ],
 "metadata": {
  "kernelspec": {
   "display_name": "Python 3",
   "language": "python",
   "name": "python3"
  },
  "language_info": {
   "codemirror_mode": {
    "name": "ipython",
    "version": 3
   },
   "file_extension": ".py",
   "mimetype": "text/x-python",
   "name": "python",
   "nbconvert_exporter": "python",
   "pygments_lexer": "ipython3",
   "version": "3.7.3"
  }
 },
 "nbformat": 4,
 "nbformat_minor": 2
}
